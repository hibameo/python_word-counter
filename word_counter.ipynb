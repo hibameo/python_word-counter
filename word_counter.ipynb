{
  "nbformat": 4,
  "nbformat_minor": 0,
  "metadata": {
    "colab": {
      "provenance": [],
      "include_colab_link": true
    },
    "kernelspec": {
      "name": "python3",
      "display_name": "Python 3"
    },
    "language_info": {
      "name": "python"
    }
  },
  "cells": [
    {
      "cell_type": "markdown",
      "metadata": {
        "id": "view-in-github",
        "colab_type": "text"
      },
      "source": [
        "<a href=\"https://colab.research.google.com/github/hibameo/python_word-counter/blob/main/word_counter.ipynb\" target=\"_parent\"><img src=\"https://colab.research.google.com/assets/colab-badge.svg\" alt=\"Open In Colab\"/></a>"
      ]
    },
    {
      "cell_type": "markdown",
      "source": [
        " ***Word Counter***\n",
        "\n",
        " Features:\n",
        "\n",
        " User se ek paragraph lega\n",
        "\n",
        "Kitne words aur letters hain ye count karega"
      ],
      "metadata": {
        "id": "mNvvHOxop8YA"
      }
    },
    {
      "cell_type": "code",
      "source": [
        "text = input(\"Enter your text: \")\n",
        "words = text.split()\n",
        "letters = len(text.replace(\" \", \"\"))\n",
        "\n",
        "print(f\"Total words: {len(words)}\")\n",
        "print(f\"Total letters (excluding spaces): {letters}\")\n"
      ],
      "metadata": {
        "colab": {
          "base_uri": "https://localhost:8080/"
        },
        "id": "kdKOIVIQqKr7",
        "outputId": "bf447d19-52d2-4eb2-a69a-dfb92be77b6c"
      },
      "execution_count": 1,
      "outputs": [
        {
          "output_type": "stream",
          "name": "stdout",
          "text": [
            "Enter your text: my name is hiba zaheer meo\n",
            "Total words: 6\n",
            "Total letters (excluding spaces): 21\n"
          ]
        }
      ]
    }
  ]
}